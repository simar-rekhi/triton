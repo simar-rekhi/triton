{
  "nbformat": 4,
  "nbformat_minor": 0,
  "metadata": {
    "colab": {
      "provenance": [],
      "gpuType": "T4"
    },
    "kernelspec": {
      "name": "python3",
      "display_name": "Python 3"
    },
    "language_info": {
      "name": "python"
    },
    "accelerator": "GPU"
  },
  "cells": [
    {
      "cell_type": "markdown",
      "source": [
        "# Basics of Triton"
      ],
      "metadata": {
        "id": "oB8O1Ha183bU"
      }
    },
    {
      "cell_type": "code",
      "execution_count": 9,
      "metadata": {
        "colab": {
          "base_uri": "https://localhost:8080/"
        },
        "id": "uHdg6lzL82L_",
        "outputId": "5c58e030-0317-4a0c-d39d-237135a94e9e"
      },
      "outputs": [
        {
          "output_type": "stream",
          "name": "stdout",
          "text": [
            "Sun Sep 21 05:37:19 2025       \n",
            "+-----------------------------------------------------------------------------------------+\n",
            "| NVIDIA-SMI 550.54.15              Driver Version: 550.54.15      CUDA Version: 12.4     |\n",
            "|-----------------------------------------+------------------------+----------------------+\n",
            "| GPU  Name                 Persistence-M | Bus-Id          Disp.A | Volatile Uncorr. ECC |\n",
            "| Fan  Temp   Perf          Pwr:Usage/Cap |           Memory-Usage | GPU-Util  Compute M. |\n",
            "|                                         |                        |               MIG M. |\n",
            "|=========================================+========================+======================|\n",
            "|   0  Tesla T4                       Off |   00000000:00:04.0 Off |                    0 |\n",
            "| N/A   58C    P0             30W /   70W |     680MiB /  15360MiB |      0%      Default |\n",
            "|                                         |                        |                  N/A |\n",
            "+-----------------------------------------+------------------------+----------------------+\n",
            "                                                                                         \n",
            "+-----------------------------------------------------------------------------------------+\n",
            "| Processes:                                                                              |\n",
            "|  GPU   GI   CI        PID   Type   Process name                              GPU Memory |\n",
            "|        ID   ID                                                               Usage      |\n",
            "|=========================================================================================|\n",
            "+-----------------------------------------------------------------------------------------+\n",
            "Looking in indexes: https://download.pytorch.org/whl/cu118\n",
            "Requirement already satisfied: torch in /usr/local/lib/python3.12/dist-packages (2.8.0+cu126)\n",
            "Requirement already satisfied: torchvision in /usr/local/lib/python3.12/dist-packages (0.23.0+cu126)\n",
            "Requirement already satisfied: torchaudio in /usr/local/lib/python3.12/dist-packages (2.8.0+cu126)\n",
            "Requirement already satisfied: filelock in /usr/local/lib/python3.12/dist-packages (from torch) (3.19.1)\n",
            "Requirement already satisfied: typing-extensions>=4.10.0 in /usr/local/lib/python3.12/dist-packages (from torch) (4.15.0)\n",
            "Requirement already satisfied: setuptools in /usr/local/lib/python3.12/dist-packages (from torch) (75.2.0)\n",
            "Requirement already satisfied: sympy>=1.13.3 in /usr/local/lib/python3.12/dist-packages (from torch) (1.13.3)\n",
            "Requirement already satisfied: networkx in /usr/local/lib/python3.12/dist-packages (from torch) (3.5)\n",
            "Requirement already satisfied: jinja2 in /usr/local/lib/python3.12/dist-packages (from torch) (3.1.6)\n",
            "Requirement already satisfied: fsspec in /usr/local/lib/python3.12/dist-packages (from torch) (2025.3.0)\n",
            "Requirement already satisfied: nvidia-cuda-nvrtc-cu12==12.6.77 in /usr/local/lib/python3.12/dist-packages (from torch) (12.6.77)\n",
            "Requirement already satisfied: nvidia-cuda-runtime-cu12==12.6.77 in /usr/local/lib/python3.12/dist-packages (from torch) (12.6.77)\n",
            "Requirement already satisfied: nvidia-cuda-cupti-cu12==12.6.80 in /usr/local/lib/python3.12/dist-packages (from torch) (12.6.80)\n",
            "Requirement already satisfied: nvidia-cudnn-cu12==9.10.2.21 in /usr/local/lib/python3.12/dist-packages (from torch) (9.10.2.21)\n",
            "Requirement already satisfied: nvidia-cublas-cu12==12.6.4.1 in /usr/local/lib/python3.12/dist-packages (from torch) (12.6.4.1)\n",
            "Requirement already satisfied: nvidia-cufft-cu12==11.3.0.4 in /usr/local/lib/python3.12/dist-packages (from torch) (11.3.0.4)\n",
            "Requirement already satisfied: nvidia-curand-cu12==10.3.7.77 in /usr/local/lib/python3.12/dist-packages (from torch) (10.3.7.77)\n",
            "Requirement already satisfied: nvidia-cusolver-cu12==11.7.1.2 in /usr/local/lib/python3.12/dist-packages (from torch) (11.7.1.2)\n",
            "Requirement already satisfied: nvidia-cusparse-cu12==12.5.4.2 in /usr/local/lib/python3.12/dist-packages (from torch) (12.5.4.2)\n",
            "Requirement already satisfied: nvidia-cusparselt-cu12==0.7.1 in /usr/local/lib/python3.12/dist-packages (from torch) (0.7.1)\n",
            "Requirement already satisfied: nvidia-nccl-cu12==2.27.3 in /usr/local/lib/python3.12/dist-packages (from torch) (2.27.3)\n",
            "Requirement already satisfied: nvidia-nvtx-cu12==12.6.77 in /usr/local/lib/python3.12/dist-packages (from torch) (12.6.77)\n",
            "Requirement already satisfied: nvidia-nvjitlink-cu12==12.6.85 in /usr/local/lib/python3.12/dist-packages (from torch) (12.6.85)\n",
            "Requirement already satisfied: nvidia-cufile-cu12==1.11.1.6 in /usr/local/lib/python3.12/dist-packages (from torch) (1.11.1.6)\n",
            "Requirement already satisfied: triton==3.4.0 in /usr/local/lib/python3.12/dist-packages (from torch) (3.4.0)\n",
            "Requirement already satisfied: numpy in /usr/local/lib/python3.12/dist-packages (from torchvision) (2.0.2)\n",
            "Requirement already satisfied: pillow!=8.3.*,>=5.3.0 in /usr/local/lib/python3.12/dist-packages (from torchvision) (11.3.0)\n",
            "Requirement already satisfied: mpmath<1.4,>=1.1.0 in /usr/local/lib/python3.12/dist-packages (from sympy>=1.13.3->torch) (1.3.0)\n",
            "Requirement already satisfied: MarkupSafe>=2.0 in /usr/local/lib/python3.12/dist-packages (from jinja2->torch) (3.0.2)\n",
            "True\n"
          ]
        }
      ],
      "source": [
        "!nvidia-smi\n",
        "!pip install torch torchvision torchaudio --index-url https://download.pytorch.org/whl/cu118\n",
        "import torch\n",
        "import triton\n",
        "import triton.language as tl\n",
        "print(torch.cuda.is_available())\n"
      ]
    },
    {
      "cell_type": "markdown",
      "source": [
        "### triton kernel itself"
      ],
      "metadata": {
        "id": "jBEYoIJWNwxA"
      }
    },
    {
      "cell_type": "code",
      "source": [
        "@triton.jit     # this is a GPU kernel that needs to be launched by Triton\n",
        "def vector_add_kernel(\n",
        "    A,  # 32-bit pointer to input vector A\n",
        "    B,\n",
        "    C,  # 32-bit pointer to output vector B\n",
        "    N,  # total number of elements\n",
        "    BLOCK_SIZE: tl.constexpr      # compile time constant; how many elements does a single program handle\n",
        "):\n",
        "  # identify the program we are in along the 0-axis | program here is a CUDA-like block\n",
        "  pid = tl.program_id(axis=0)\n",
        "\n",
        "  offsets = pid * BLOCK_SIZE + tl.arange(0, BLOCK_SIZE)\n",
        "  # tl.arange() generates a tensor which stays constant throughout this process and works as a local indexor for each offset\n",
        "  # pid - program id, here, keeps incrementing\n",
        "  # BLOCK_SIZE stays constant\n",
        "\n",
        "  # compute a boolean mask to guard against out-of-bounds when N is not a multiple of BLOCK_SIZE\n",
        "\n",
        "  # the significance of a mask is to book-keep which workers/ GPU blocks are valid/active and which are not! [true, true, true, false, false]\n",
        "  mask = offsets < N\n",
        "\n",
        "  # load A[offsets] and B[offsets]\n",
        "  a = tl.load(A + offsets, mask=mask)    # the reason why we add offsets to the picture is because we want to index just the right numbers\n",
        "  b = tl.load(B + offsets, mask=mask)\n",
        "\n",
        "  # element wise addition happens on registers\n",
        "  tl.store(C + offsets, a + b, mask=mask)"
      ],
      "metadata": {
        "id": "BP9VlQc3Nlir"
      },
      "execution_count": 10,
      "outputs": []
    },
    {
      "cell_type": "markdown",
      "source": [
        "### helper for benchmarking"
      ],
      "metadata": {
        "id": "Pc9W4aMThcU7"
      }
    },
    {
      "cell_type": "code",
      "source": [
        "def time_op_gpu(fn, sync=True, warmup=5, iters =20):\n",
        "\n",
        "  # warmup does JIT and warms caches\n",
        "  for _ in range(warmup):\n",
        "    fn()\n",
        "  if sync:\n",
        "    torch.cuda.synchronize()\n",
        "\n",
        "  # Event is just a CUDA synchronization marker, and we have two, for start and end\n",
        "  start = torch.cuda.Event(enable_timing=True)\n",
        "  end = torch.cuda.Event(enable_timing=True)\n",
        "  elapsed_ms = 0.0\n",
        "  for _ in range(iters):\n",
        "    start.record()\n",
        "    fn()\n",
        "    end.record()\n",
        "\n",
        "    # wait for the events to be recorded and measure GPU time\n",
        "    torch.cuda.synchronize()\n",
        "    elapsed_ms += start.elapsed_time(end)\n",
        "  return elapsed_ms / iters"
      ],
      "metadata": {
        "id": "zmcGNABNhbgu"
      },
      "execution_count": 11,
      "outputs": []
    },
    {
      "cell_type": "markdown",
      "source": [
        "### driver main logic"
      ],
      "metadata": {
        "id": "6-yNeNmpuFyl"
      }
    },
    {
      "cell_type": "code",
      "source": [
        "def main():\n",
        "  assert torch.cuda.is_available(), \"CUDA device not found, please run on a machine with NVIDIA GPU\"\n",
        "\n",
        "  N = 1 << 24  # 16 million elements\n",
        "\n",
        "  # allocation of I/O directly on the GPU\n",
        "  a = torch.rand(N, device=\"cuda\", dtype=torch.float32)\n",
        "  b = torch.rand(N, device=\"cuda\", dtype=torch.float32)\n",
        "  c = torch.empty_like(a)\n",
        "\n",
        "  BLOCK_SIZE = 1024\n",
        "\n",
        "  grid = lambda META: (triton.cdiv(N, META[\"BLOCK_SIZE\"]),)\n",
        "\n",
        "  # 3.1) Correctness Check\n",
        "  vector_add_kernel[grid](a, b, c, N, BLOCK_SIZE=BLOCK_SIZE)\n",
        "  # Synchronize to ensure kernel has finished before checking results.\n",
        "  torch.cuda.synchronize()\n",
        "  ok = torch.allclose(c, a + b, rtol=1e-5, atol=1e-6)\n",
        "  print(f\"[Correctness] Triton result matches PyTorch: {ok}\")\n",
        "\n",
        "  # 3.2) Triton v PyTorch\n",
        "  def launch_triton():\n",
        "        vector_add_kernel[grid](a, b, c, N, BLOCK_SIZE=BLOCK_SIZE)\n",
        "\n",
        "  # PyTorch baseline\n",
        "  def launch_torch():\n",
        "        # We write to c to emulate the same output pattern as Triton; in practice you might reuse ref = a + b.\n",
        "        c.copy_(a + b)\n",
        "  triton_ms = time_op_gpu(launch_triton)\n",
        "  torch_ms = time_op_gpu(launch_torch)\n",
        "\n",
        "  # Throughput: number of bytes moved per second.\n",
        "  # Each element reads A[i] and B[i] (2 * 4 bytes) and writes C[i] (4 bytes) => 12 bytes/element.\n",
        "  bytes_moved = N * 12\n",
        "  triton_bw = bytes_moved / (triton_ms / 1e3) / 1e9  # GB/s\n",
        "  torch_bw = bytes_moved / (torch_ms / 1e3) / 1e9    # GB/s\n",
        "\n",
        "  print(f\"[Perf] Triton: {triton_ms:.3f} ms  (~{triton_bw:.1f} GB/s)\")\n",
        "  print(f\"[Perf] PyTorch: {torch_ms:.3f} ms  (~{torch_bw:.1f} GB/s)\")\n",
        "\n",
        "    # 3.3) (Optional) Try different BLOCK_SIZE to see the effect on performance\n",
        "    # for bs in [128, 256, 512, 1024, 2048]:\n",
        "    #     grid2 = lambda META: (triton.cdiv(N, META[\"BLOCK_SIZE\"]),)\n",
        "    #     def launch():\n",
        "    #         vector_add_kernel[grid2](a, b, c, N, BLOCK_SIZE=bs)\n",
        "    #     t_ms = time_op_gpu(launch)\n",
        "    #     bw = bytes_moved / (t_ms / 1e3) / 1e9\n",
        "    #     print(f\"BLOCK_SIZE={bs:4d}  ->  {t_ms:.3f} ms  (~{bw:.1f} GB/s)\")\n",
        "\n",
        "if __name__ == \"__main__\":\n",
        "    main()"
      ],
      "metadata": {
        "colab": {
          "base_uri": "https://localhost:8080/"
        },
        "id": "sayX9NPzhRzE",
        "outputId": "ca0881b4-17f9-43b3-b6a1-b6a2caac7d31"
      },
      "execution_count": 12,
      "outputs": [
        {
          "output_type": "stream",
          "name": "stdout",
          "text": [
            "[Correctness] Triton result matches PyTorch: True\n",
            "[Perf] Triton: 0.855 ms  (~235.5 GB/s)\n",
            "[Perf] PyTorch: 1.377 ms  (~146.2 GB/s)\n"
          ]
        }
      ]
    }
  ]
}